{
 "cells": [
  {
   "cell_type": "code",
   "execution_count": 1,
   "metadata": {},
   "outputs": [],
   "source": [
    "import time\n",
    "import numpy as np\n",
    "import matplotlib.pyplot as plt\n",
    "#import numba as nb\n",
    "\n",
    "from scipy.integrate import quad   # integración mediante funciones\n",
    "from scipy.integrate import simps  # integración mediante datos\n",
    "from scipy.interpolate import CubicSpline\n",
    "from scipy.misc import derivative  # para calcular derivada numerica"
   ]
  },
  {
   "cell_type": "markdown",
   "metadata": {},
   "source": [
    "Código donde se calcula el disco de acreción, las unidades usadas son:\n",
    "\n",
    "- masa de la partícula en: $10^{-19} eV$\n",
    "- el flujo se da en: erg $s^{-1}cm^{-2}$\n",
    "- la temperatura en: $K$\n",
    "- $\\dot{M}$ en Masas solares por año\n",
    "- $\\sigma = 5.67*10^{-5}$ erg $s^{-1} cm^{-2} K^{-4}$\n",
    "- $h = 6.6256*10^{-27}$ erg s\n",
    "- $k = 1.3805*10^{-16}$ erg $K^{-1}$\n",
    "\n",
    "las ecuaciones son las basadas en arxiv : 1009.1250 v1"
   ]
  },
  {
   "cell_type": "code",
   "execution_count": 2,
   "metadata": {},
   "outputs": [],
   "source": [
    "# importando perfiles\n",
    "g = np.loadtxt(\"g_profile.dat\", unpack= True)\n",
    "dg = np.loadtxt(\"dg_profile.dat\", unpack= True)\n",
    "\n",
    "N = np.loadtxt('N_profile.dat', unpack= True)\n",
    "dN = np.loadtxt('dN_profile.dat', unpack= True)\n",
    "ddN = np.loadtxt('ddN_profile.dat', unpack= True)"
   ]
  },
  {
   "cell_type": "code",
   "execution_count": 3,
   "metadata": {},
   "outputs": [],
   "source": [
    "# interpolando perfiles\n",
    "\n",
    "f_g = CubicSpline(g[0], g[1], bc_type='natural')\n",
    "f_dg = CubicSpline(dg[0], dg[1], bc_type='natural')\n",
    "\n",
    "f_N = CubicSpline(N[0], N[1], bc_type='natural')\n",
    "f_dN = CubicSpline(dN[0], dN[1], bc_type='natural')\n",
    "f_ddN = CubicSpline(ddN[0], ddN[1], bc_type='natural')\n",
    "\n",
    "perfiles = [f_g, f_dg, f_N, f_dN, f_ddN]"
   ]
  },
  {
   "cell_type": "code",
   "execution_count": 4,
   "metadata": {},
   "outputs": [
    {
     "data": {
      "image/png": "[encoded data removed]",
      "text/plain": [
       "<Figure size 432x288 with 6 Axes>"
      ]
     },
     "metadata": {
      "needs_background": "light"
     },
     "output_type": "display_data"
    }
   ],
   "source": [
    "# plots checking\n",
    "\n",
    "rad = np.arange(g[0][0], 30, 0.01)# g[0][-1]\n",
    "\n",
    "fig, ax = plt.subplots(nrows=3, ncols=2, sharex=True, sharey=False)\n",
    "\n",
    "ax[0,0].plot(rad, f_g(rad), label='g_profile')\n",
    "ax[1,0].plot(rad, f_dg(rad), label='dg_profile')\n",
    "\n",
    "ax[0,1].plot(rad, f_N(rad), label='N_profile')\n",
    "ax[1,1].plot(rad, f_dN(rad), label='dN_profile')\n",
    "ax[2,1].plot(rad, f_ddN(rad), label='ddN_profile')\n",
    "\n",
    "for i in rad:\n",
    "    ax[2,0].plot(i, derivative(f_dN, i, dx=1e-6), 'ko')\n",
    "    #ax[1,1].plot(i, derivative(f_N, i, dx=1e-6), 'k^')\n",
    "    "
   ]
  },
  {
   "cell_type": "code",
   "execution_count": 4,
   "metadata": {},
   "outputs": [],
   "source": [
    "# definiendo cantidades físicas\n",
    "\n",
    "def Sigma(r, per=perfiles):\n",
    "    \n",
    "    g, dg, N, dN, ddN = per  # asignando perfiles\n",
    "    \n",
    "    sig = np.sqrt(r*N(r)*dN(r))/r\n",
    "    \n",
    "    return sig \n",
    "\n",
    "def dSigma(r, per=perfiles):\n",
    "    \n",
    "    g, dg, N, dN, ddN = per  # asignando perfiles\n",
    "    \n",
    "    d2N = derivative(dN, r, dx=1e-6)\n",
    "    \n",
    "    #dsig = r*dN(r)**2+N(r)*(r*ddN(r)-dN(r))/(2*r*np.sqrt(r*N(r)*dN(r)))\n",
    "    dsig = r*dN(r)**2+N(r)*(r*d2N-dN(r))/(2*r*np.sqrt(r*N(r)*dN(r)))\n",
    "    \n",
    "    return dsig \n",
    "\n",
    "def EE(r, per=perfiles):\n",
    "    \n",
    "    g, dg, N, dN, ddN = per  # asignando perfiles\n",
    "    \n",
    "    ene = N(r)**2/(np.sqrt(N(r)*(N(r)-r*dN(r))))\n",
    "    \n",
    "    return ene\n",
    "\n",
    "def L(r, per=perfiles):\n",
    "    \n",
    "    g, dg, N, dN, ddN = per  # asignando perfiles\n",
    "    \n",
    "    l = r*np.sqrt(r*N(r)*dN(r))/(np.sqrt(N(r)*(N(r)-r*dN(r))))\n",
    "    \n",
    "    return l\n",
    "\n",
    "def dL(r, per=perfiles):\n",
    "    \n",
    "    g, dg, N, dN, ddN = per  # asignando perfiles\n",
    "    \n",
    "    dl = (r*N(r)**2*(N(r)*(3*dN(r)+r*ddN(r))-3*r*dN(r)**2))/(2*np.sqrt(r*N(r)*dN(r))*np.power(N(r)*(N(r)-r*dN(r)),3/2))\n",
    "    \n",
    "    return dl"
   ]
  },
  {
   "cell_type": "code",
   "execution_count": 9,
   "metadata": {},
   "outputs": [],
   "source": [
    "# integrales\n",
    "def flujo(R, ri, Mpunt, m, per=perfiles):\n",
    "    \n",
    "    g, dg, N, dN, ddN = per \n",
    "    \n",
    "    primer_termino = -1.4556e18*(Mpunt*m**2/(4*np.pi*R))*(dSigma(R)/(EE(R)-L(R)*Sigma(R))**2)\n",
    "    ultimo_termino = N(R)/g(R)\n",
    "    \n",
    "    integrando = lambda r:(EE(r)-L(r)*Sigma(r))*dL(r)\n",
    "    integral, error = quad(integrando, ri, R)\n",
    "    \n",
    "    #print(primer_termino, '', integral, '', ultimo_termino)\n",
    "    \n",
    "    fluj = primer_termino*integral*ultimo_termino\n",
    "    \n",
    "    return fluj, error\n",
    "\n",
    "def temp(R, ri, Mpunt, m, per=perfiles, si=5.67e-05):\n",
    "    \n",
    "    fluj, error = flujo(R, ri, Mpunt, m)\n",
    "    temperatura = np.power(fluj/si, 1/4)\n",
    "    \n",
    "    return fluj, temperatura, error\n",
    "\n",
    "\n",
    "def flujo_elect(nu, i, ri, rout, Mpunt, m, h=6.6256e-27, k=1.3805e-16):\n",
    "    \n",
    "    primer_termino = 4.5329e-17*nu**3*np.cos(i)/m**2\n",
    "    \n",
    "    integrando = lambda r: r/(np.exp(h*nu/(k*temp(r, ri, Mpunt, m)[1])))\n",
    "    \n",
    "    integral, error = quad(integrando, ri, rout)\n",
    "    \n",
    "    lum = nu*primer_termino*integral\n",
    "    \n",
    "    return lum"
   ]
  },
  {
   "cell_type": "code",
   "execution_count": null,
   "metadata": {},
   "outputs": [],
   "source": [
    "## temp"
   ]
  },
  {
   "cell_type": "code",
   "execution_count": 7,
   "metadata": {},
   "outputs": [
    {
     "name": "stderr",
     "output_type": "stream",
     "text": [
      "<ipython-input-6-6d9609c57072>:11: IntegrationWarning: The maximum number of subdivisions (50) has been achieved.\n",
      "  If increasing the limit yields no improvement it is advised to analyze \n",
      "  the integrand in order to determine the difficulties.  If the position of a \n",
      "  local difficulty can be determined (singularity, discontinuity) one will \n",
      "  probably gain from splitting up the interval and calling the integrator \n",
      "  on the subranges.  Perhaps a special-purpose integrator should be used.\n",
      "  integral, error = quad(integrando, ri, R)\n"
     ]
    },
    {
     "name": "stdout",
     "output_type": "stream",
     "text": [
      "2.12820409933726\n"
     ]
    }
   ],
   "source": [
    "start = time.time()\n",
    "# test\n",
    "rst, rout = 0.025, 31.79\n",
    "mpto, me = 2e-06, 2.51e06\n",
    "\n",
    "radios = np.linspace(rst, rout, 100)\n",
    "\n",
    "dat_temp = np.array([])\n",
    "dat_fluj = np.array([])\n",
    "dat_error = np.array([])\n",
    "\n",
    "for R in radios:\n",
    "    fluj, temperatura, error = temp(R, rst, mpto, me)\n",
    "    \n",
    "    # saving\n",
    "    dat_temp = np.append(dat_temp, temperatura)\n",
    "    dat_fluj = np.append(dat_fluj, fluj)\n",
    "    dat_error = np.append(dat_error, error)\n",
    "\n",
    "end = time.time()\n",
    "\n",
    "time = (end-start)/60\n",
    "print(time)"
   ]
  },
  {
   "cell_type": "code",
   "execution_count": 19,
   "metadata": {},
   "outputs": [
    {
     "data": {
      "text/plain": [
       "[<matplotlib.lines.Line2D at 0x7f87cd4ce850>]"
      ]
     },
     "execution_count": 19,
     "metadata": {},
     "output_type": "execute_result"
    },
    {
     "data": {
      "image/png": "[encoded data removed]",
      "text/plain": [
       "<Figure size 432x288 with 2 Axes>"
      ]
     },
     "metadata": {
      "needs_background": "light"
     },
     "output_type": "display_data"
    }
   ],
   "source": [
    "fig, ax = plt.subplots(nrows=1, ncols=2, sharex=False, sharey=False)\n",
    "\n",
    "ax[0].plot(radios, dat_temp, 'o' ,label='Tem_profile')\n",
    "ax[1].plot(radios, dat_fluj, 'o',label='F_profile')\n",
    "#ax[2].plot(radios, dat_error, 'o',label='error')\n",
    "\n",
    "#ax[0].set_xscale('log')\n",
    "#ax[0].set_yscale('log')\n",
    "#ax[1].set_xscale('log')\n",
    "#ax[1].set_yscale('log')"
   ]
  },
  {
   "cell_type": "code",
   "execution_count": null,
   "metadata": {},
   "outputs": [],
   "source": [
    "# flujo electromagnetico"
   ]
  },
  {
   "cell_type": "code",
   "execution_count": null,
   "metadata": {},
   "outputs": [],
   "source": [
    "start = time.time()\n",
    "# test\n",
    "rst, rout = 0.025, 31.79\n",
    "mpto, me = 2e-06, 2.51e06\n",
    "i = np.pi/3\n",
    "\n",
    "nu_min, nu_max = 10, 20\n",
    "\n",
    "values = 10**np.linspace(nu_min, nu_max, 100)\n",
    "\n",
    "dat_f_e = np.array([])\n",
    "\n",
    "for nu in values:\n",
    "    \n",
    "    fl_e = flujo_elect(nu, i, rst, rout, mpto, me)\n",
    "    \n",
    "    # saving\n",
    "    dat_f_e = np.append(dat_f_e, fl_e)\n",
    "\n",
    "\n",
    "end = time.time()\n",
    "time = (end-start)/60\n",
    "print(time)"
   ]
  }
 ],
 "metadata": {
  "kernelspec": {
   "display_name": "Python 3",
   "language": "python",
   "name": "python3"
  },
  "language_info": {
   "codemirror_mode": {
    "name": "ipython",
    "version": 3
   },
   "file_extension": ".py",
   "mimetype": "text/x-python",
   "name": "python",
   "nbconvert_exporter": "python",
   "pygments_lexer": "ipython3",
   "version": "3.8.5"
  }
 },
 "nbformat": 4,
 "nbformat_minor": 4
}
