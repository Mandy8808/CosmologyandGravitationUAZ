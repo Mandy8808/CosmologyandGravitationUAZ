{
 "cells": [
  {
   "cell_type": "code",
   "execution_count": 1,
   "metadata": {},
   "outputs": [],
   "source": [
    "%load_ext autoreload\n",
    "%autoreload 2"
   ]
  },
  {
   "cell_type": "code",
   "execution_count": 2,
   "metadata": {},
   "outputs": [],
   "source": [
    "import numpy as np\n",
    "import matplotlib.pyplot as plt\n",
    "\n",
    "import moduloPaper as mod\n",
    "import plt_conf as conf  # modulo de configuración de gráfico\n",
    "\n",
    "from scipy.interpolate import interp1d \n",
    "from scipy.optimize import fsolve"
   ]
  },
  {
   "cell_type": "code",
   "execution_count": 3,
   "metadata": {},
   "outputs": [],
   "source": [
    "conf.general()  # cargando configuración general"
   ]
  },
  {
   "cell_type": "code",
   "execution_count": 4,
   "metadata": {},
   "outputs": [],
   "source": [
    "# Numericamente debido a las unidades escaladas el valor de la M no influye en el gráfico\n",
    "# solo cuando se desea escalar. IMPORTANTE, para el ángulo si influye pq hay un término de Rsc\n",
    "\n",
    "## PARAMETERS ####\n",
    "################\n",
    "Msun = 1.9885e30  # kg \n",
    "M = Msun\n",
    "Rsun = 6.96e08  # m\n",
    "G = 6.674e-11  # m^3/(kg s^2)\n",
    "Lambda = 1.1056e-52  # m^-2\n",
    "c = 299792458  # m/s\n",
    "RSch = 2*G*M/c**2  #  m\n",
    "#################"
   ]
  },
  {
   "cell_type": "code",
   "execution_count": 5,
   "metadata": {},
   "outputs": [],
   "source": [
    "# ANGLES\n",
    "phimin = 0.4\n",
    "phimax = np.pi-phimin"
   ]
  },
  {
   "cell_type": "code",
   "execution_count": 13,
   "metadata": {},
   "outputs": [],
   "source": [
    "#####\n",
    "# INCREASING b0 VALUE\n",
    "####\n",
    "b0val = [5, 5.5, 6, 7, 8, 9, 10, 11, 12, 13, 14, 15, 20,\n",
    "         25, 30, 40, 50, 60, 80, 100, 150, 200, 300, 500, \n",
    "         1000, 5000, 10000, 20000, 40000, 80000, 100000,\n",
    "         150000, 200000, 235672, 250000]"
   ]
  },
  {
   "cell_type": "code",
   "execution_count": 14,
   "metadata": {},
   "outputs": [
    {
     "name": "stderr",
     "output_type": "stream",
     "text": [
      "/Users/mandy/anaconda3/lib/python3.10/site-packages/scipy/integrate/_ivp/common.py:47: UserWarning: At least one element of `rtol` is too small. Setting `rtol = np.maximum(rtol, 2.220446049250313e-14)`.\n",
      "  warn(\"At least one element of `rtol` is too small. \"\n"
     ]
    }
   ],
   "source": [
    "a = 1.5\n",
    "\n",
    "AngTriang = []\n",
    "AngTriangFondo = []\n",
    "cont = 1\n",
    "for i in b0val:\n",
    "    #print(cont)\n",
    "    b = i*RSch\n",
    "\n",
    "    ##### CONSTRUYENDO LOS TRIANGULOS\n",
    "\n",
    "    # ESPACIO\n",
    "    paramF = [Lambda, RSch, phimin, phimax]\n",
    "    Val_b = [b, a*b, a*b]\n",
    "    delta = [0, 0, 0]\n",
    "    Datptos = [phimax, np.pi/2, phimin]\n",
    "\n",
    "    _, betasCur = mod.AngSchDSitter(paramF, Val_b, delta, Datptos)\n",
    "\n",
    "    # FONDO\n",
    "    paramFond = [Lambda, 0, phimin, phimax]\n",
    "    Val_bFondo = [b, a*b, a*b]\n",
    "    deltaFondo = [0, 0, 0]\n",
    "    DatptosFondo = [phimax, np.pi/2, phimin]\n",
    "\n",
    "    _, betasCurFondo = mod.AngSchDSitter(paramFond, Val_bFondo, deltaFondo, DatptosFondo)\n",
    "\n",
    "    AngTriang.append(betasCur)\n",
    "    AngTriangFondo.append(betasCurFondo)\n",
    "\n",
    "    cont += 1\n",
    "\n",
    "AngTriang = np.array(AngTriang)\n",
    "AngTriangFondo = np.array(AngTriangFondo)"
   ]
  },
  {
   "cell_type": "code",
   "execution_count": 15,
   "metadata": {},
   "outputs": [],
   "source": [
    "DataAser = []\n",
    "for i in b0val:\n",
    "    b = i*RSch\n",
    "    \n",
    "    # Cantidades Adim\n",
    "    rS = RSch/b \n",
    "    Lb = Lambda*b**2\n",
    "\n",
    "    ##### CONSTRUYENDO LOS TRIANGULOS\n",
    "\n",
    "    # ESPACIO\n",
    "    paramF = [Lambda, RSch, phimin, phimax]\n",
    "    Val_b = [b, a*b, a*b]\n",
    "    delta = [0, 0, 0]\n",
    "    Datptos = [phimax, np.pi/2, phimin]\n",
    "\n",
    "    # \n",
    "    DatGeo = mod.Intind(paramF, Val_b, delta)\n",
    "    phi2, u2 = DatGeo[1]\n",
    "    du2 = np.gradient(u2, phi2)\n",
    "\n",
    "    # filtrando\n",
    "    bNaN = np.isnan(du2)\n",
    "    ind = [not(i) for i in bNaN]\n",
    "    du2 = du2[ind]\n",
    "    phi2 = phi2[ind]\n",
    "    fdu2 = interp1d(phi2, du2, kind='quadratic')\n",
    "\n",
    "    angCrit = fsolve(fdu2, np.pi/2-0.1, xtol=1e-10)[0]\n",
    "    d = np.pi/2-angCrit\n",
    "    #print(d)\n",
    "    arg = [d, phimin, Val_b[0], Val_b[1], Lambda, G, M, c]\n",
    "\n",
    "    Aser = mod.SchdeSitter_Ang_Analit(arg)\n",
    "    DataAser.append(Aser)\n",
    "\n",
    "DataAser = np.abs(DataAser)"
   ]
  },
  {
   "cell_type": "code",
   "execution_count": 16,
   "metadata": {},
   "outputs": [],
   "source": [
    "DatAngSchdSitter = np.abs(np.sum(AngTriang-AngTriangFondo, axis=1))\n",
    "# DatAngSch = np.abs(np.sum(AngTriangSch-AngTriangFondoSch, axis=1))"
   ]
  },
  {
   "cell_type": "code",
   "execution_count": 32,
   "metadata": {},
   "outputs": [
    {
     "data": {
      "text/plain": [
       "(-0.01, 0.2)"
      ]
     },
     "execution_count": 32,
     "metadata": {},
     "output_type": "execute_result"
    },
    {
     "data": {
      "image/png": "[encoded data removed]",
      "text/plain": [
       "<Figure size 1000x500 with 2 Axes>"
      ]
     },
     "metadata": {},
     "output_type": "display_data"
    }
   ],
   "source": [
    "fig, ax = plt.subplots(nrows=1, ncols=2, figsize=(10, 5),\n",
    "                       sharex=False, sharey=False,\n",
    "                       gridspec_kw=dict(hspace=0.0, wspace=.2))\n",
    "\n",
    "\n",
    "ax[1].plot(b0val, DatAngSchdSitter, ls='', marker='o')\n",
    "ax[1].plot(b0val, DataAser, ls='', marker='^')\n",
    "\n",
    "ax[1].plot(datMat[0], datMat[1], 'v')\n",
    "\n",
    "#ax[1].set_ylim(0, 0.05)\n",
    "#ax[1].set_yscale('log')\n",
    "ax[1].set_xscale('log')\n",
    "\n",
    "ax[1].set_ylim(-0.01, 0.2)"
   ]
  },
  {
   "cell_type": "code",
   "execution_count": 19,
   "metadata": {},
   "outputs": [],
   "source": [
    "datMat = np.loadtxt('dataAngMathe.dat', unpack=True)\n",
    "datMatSer = np.loadtxt('dataAngSerMathe.dat', unpack=True)"
   ]
  },
  {
   "cell_type": "code",
   "execution_count": 36,
   "metadata": {},
   "outputs": [
    {
     "data": {
      "text/plain": [
       "(0.15375705096776304, 0.13339594781608788)"
      ]
     },
     "execution_count": 36,
     "metadata": {},
     "output_type": "execute_result"
    }
   ],
   "source": [
    "DatAngSchdSitter[0], datMat[1][0]"
   ]
  },
  {
   "cell_type": "code",
   "execution_count": null,
   "metadata": {},
   "outputs": [],
   "source": [
    "## Sch\n",
    "a = 1.5\n",
    "\n",
    "LambdaSch = 0\n",
    "AngTriangSch = []\n",
    "AngTriangFondoSch = []\n",
    "cont = 1\n",
    "for i in b0val:\n",
    "    print(cont)\n",
    "    b = i*RSch\n",
    "\n",
    "    ##### CONSTRUYENDO LOS TRIANGULOS\n",
    "\n",
    "    # ESPACIO\n",
    "    paramF = [LambdaSch, RSch, phimin, phimax]\n",
    "    Val_b = [b, a*b, a*b]\n",
    "    delta = [0, 0, 0]\n",
    "    Datptos = [phimax, np.pi/2, phimin]\n",
    "\n",
    "    _, betasCur = mod.AngSchDSitter(paramF, Val_b, delta, Datptos)\n",
    "\n",
    "    # FONDO\n",
    "    paramFond = [LambdaSch, 0, phimin, phimax]\n",
    "    Val_bFondo = [b, a*b, a*b]\n",
    "    deltaFondo = [0, 0, 0]\n",
    "    DatptosFondo = [phimax, np.pi/2, phimin]\n",
    "\n",
    "    _, betasCurFondo = mod.AngSchDSitter(paramFond, Val_bFondo, deltaFondo, DatptosFondo)\n",
    "\n",
    "    AngTriangSch.append(betasCur)\n",
    "    AngTriangFondoSch.append(betasCurFondo)\n",
    "\n",
    "    cont += 1\n",
    "\n",
    "AngTriangSch = np.array(AngTriang)\n",
    "AngTriangFondoSch = np.array(AngTriangFondo)"
   ]
  }
 ],
 "metadata": {
  "kernelspec": {
   "display_name": "Python 3 (ipykernel)",
   "language": "python",
   "name": "python3"
  },
  "language_info": {
   "codemirror_mode": {
    "name": "ipython",
    "version": 3
   },
   "file_extension": ".py",
   "mimetype": "text/x-python",
   "name": "python",
   "nbconvert_exporter": "python",
   "pygments_lexer": "ipython3",
   "version": "3.10.10"
  }
 },
 "nbformat": 4,
 "nbformat_minor": 2
}
